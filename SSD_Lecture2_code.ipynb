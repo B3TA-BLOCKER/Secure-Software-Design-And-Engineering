{
  "nbformat": 4,
  "nbformat_minor": 0,
  "metadata": {
    "colab": {
      "provenance": [],
      "authorship_tag": "ABX9TyO/aSaM7hT/xQyAEHV5ZNQD"
    },
    "kernelspec": {
      "name": "python3",
      "display_name": "Python 3"
    },
    "language_info": {
      "name": "python"
    }
  },
  "cells": [
    {
      "cell_type": "markdown",
      "source": [
        "\n",
        "\n"
      ],
      "metadata": {
        "id": "Lyylb9jzJhlH"
      }
    },
    {
      "cell_type": "code",
      "execution_count": 1,
      "metadata": {
        "colab": {
          "base_uri": "https://localhost:8080/"
        },
        "id": "BUprdW2AJgVn",
        "outputId": "1691f377-52cb-4a9f-ade1-6757e946ee22"
      },
      "outputs": [
        {
          "output_type": "stream",
          "name": "stdout",
          "text": [
            "Encrypted: b'gAAAAABnkfV5SWgqCWU7fDCrsymUVFiv4H7pn1_mulgm76l8-KiokXFAz-_jKAeM7nzUa12jxfvb83dvRasdjtFH4B6ZNAcPder3byvHf6NWCLRjWSdOmIH2m9i6HTg6zBTi0PG3Ai_M'\n",
            "Decrypted: Top secret: The password is 12345.\n"
          ]
        }
      ],
      "source": [
        "#Confidentiality\n",
        "\n",
        "from cryptography.fernet import Fernet\n",
        "\n",
        "\n",
        "key = Fernet.generate_key()\n",
        "cipher_suite = Fernet(key)\n",
        "\n",
        "\n",
        "plaintext = b\"Top secret: The password is 12345.\"\n",
        "\n",
        "\n",
        "ciphertext = cipher_suite.encrypt(plaintext)\n",
        "print(f\"Encrypted: {ciphertext}\")\n",
        "\n",
        "decrypted_text = cipher_suite.decrypt(ciphertext)\n",
        "print(f\"Decrypted: {decrypted_text.decode()}\")\n"
      ]
    },
    {
      "cell_type": "markdown",
      "source": [],
      "metadata": {
        "id": "ZWtllJyeOs-W"
      }
    },
    {
      "cell_type": "code",
      "source": [
        "#Integrity\n",
        "\n",
        "import hmac\n",
        "import hashlib\n",
        "\n",
        "\n",
        "key = b\"supersecretkey\"\n",
        "\n",
        "\n",
        "data = b\"Important message: Do not alter this.\"\n",
        "\n",
        "\n",
        "hmac_generator = hmac.new(key, data, hashlib.sha256)\n",
        "hmac_digest = hmac_generator.hexdigest()\n",
        "print(f\"Generated HMAC: {hmac_digest}\")\n",
        "\n",
        "\n",
        "received_data = b\"Important message: Do not alter this.\"\n",
        "received_hmac = hmac_digest  # Assume HMAC is transmitted along with data\n",
        "\n",
        "\n",
        "hmac_verifier = hmac.new(key, received_data, hashlib.sha256)\n",
        "if hmac.compare_digest(hmac_verifier.hexdigest(), received_hmac):\n",
        "    print(\"Data integrity verified: No tampering detected.\")\n",
        "else:\n",
        "    print(\"Integrity check failed: Data may have been tampered with!\")\n"
      ],
      "metadata": {
        "colab": {
          "base_uri": "https://localhost:8080/"
        },
        "id": "PG4M_bJ0L_Z9",
        "outputId": "47b02c0e-6262-4800-98b8-a1f2237f84d5"
      },
      "execution_count": 3,
      "outputs": [
        {
          "output_type": "stream",
          "name": "stdout",
          "text": [
            "Generated HMAC: a762df40354c54c5b601974c4ddd9471d6feedab1c7d747bcfe02a1215565ada\n",
            "Data integrity verified: No tampering detected.\n"
          ]
        }
      ]
    }
  ]
}